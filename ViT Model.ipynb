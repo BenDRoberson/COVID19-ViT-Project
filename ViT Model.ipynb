{
  "nbformat": 4,
  "nbformat_minor": 0,
  "metadata": {
    "accelerator": "TPU",
    "colab": {
      "name": "Draft ViT 4-24",
      "provenance": [],
      "collapsed_sections": [],
      "machine_shape": "hm"
    },
    "kernelspec": {
      "name": "python37464bit992b9a21c0a545898c5fa27dce8ad0a2",
      "display_name": "Python 3.7.4 64-bit"
    },
    "metadata": {
      "interpreter": {
        "hash": "6153d8899957e248f66b74147b1c3037c7c38f646e6715b0f9f13d9a713ae876"
      }
    }
  },
  "cells": [
    {
      "cell_type": "code",
      "execution_count": null,
      "metadata": {},
      "outputs": [],
      "source": [
        "# Notes: This was ran on google cloud in a collaborative notebook\n",
        "# I have moved the notebook into the GitHub, updated the data code accordingly, and added the data to the repository so that the model can be built locally\n",
        "# Also, note this currently runs on cpu not gpu. You can set it to gpu by specifying a device (your gpu) for the dataloader/model"
      ]
    },
    {
      "cell_type": "code",
      "metadata": {
        "id": "IPIaxK0Cbh4Y"
      },
      "source": [
        "import numpy as np\n",
        "import pandas as pd\n",
        "import argparse\n",
        "import os\n",
        "import random\n",
        "import shutil\n",
        "import time\n",
        "import warnings\n",
        "import PIL\n",
        "\n",
        "import torch\n",
        "import torch.nn as nn\n",
        "import torch.nn.parallel\n",
        "import torch.backends.cudnn as cudnn\n",
        "import torch.distributed as dist\n",
        "import torch.optim\n",
        "import torch.multiprocessing as mp\n",
        "import torch.utils.data\n",
        "import torch.utils.data.distributed\n",
        "import torchvision.transforms as transforms\n",
        "import torchvision.datasets as datasets\n",
        "import torchvision.models as models\n",
        "\n",
        "from pytorch_pretrained_vit import ViT, load_pretrained_weights\n",
        "\n",
        "import torchxrayvision as xrv\n",
        "\n",
        "from sklearn import model_selection"
      ],
      "execution_count": null,
      "outputs": []
    },
    {
      "cell_type": "code",
      "metadata": {
        "id": "h6buTBTIMPad"
      },
      "source": [
        "random.seed(1234)\n",
        "torch.manual_seed(1234)\n",
        "batch_size = 32\n",
        "num_workers = 8 # change this depending on your hardware specs"
      ],
      "execution_count": null,
      "outputs": []
    },
    {
      "cell_type": "code",
      "metadata": {
        "colab": {
          "base_uri": "https://localhost:8080/"
        },
        "id": "Y5D5FWdfyFma",
        "outputId": "fc7c8780-ce9d-427b-b3f4-30627dedf8cd"
      },
      "source": [
        "# This downloads and imports the pretrained ViT model\n",
        "model_name = 'B_16'\n",
        "\n",
        "model = ViT(model_name, pretrained=True)\n",
        "\n",
        "model.fc = torch.nn.Linear(in_features=768, out_features=2, bias=True)\n",
        "image_size = model.image_size[0]\n"
      ],
      "execution_count": null,
      "outputs": []
    },
    {
      "cell_type": "code",
      "metadata": {
        "colab": {
          "base_uri": "https://localhost:8080/"
        },
        "id": "-f4Oyj09ogTB",
        "outputId": "d61cdd9f-a5e4-4ab1-a299-0abb4020a367"
      },
      "source": [
        "\n",
        "import pandas as pd\n",
        "from torch.utils.data import DataLoader\n",
        "from torchvision import transforms\n",
        "from torchvision.datasets import ImageFolder\n",
        "\n",
        "t = transforms.Compose([\n",
        "    transforms.Resize(255)\n",
        "    ,transforms.CenterCrop(224)\n",
        "    ,transforms.ToTensor()\n",
        "    ,transforms.Normalize(mean=(0.5,0.5,0.5), std=(0.5,0.5,0.5))\n",
        "])\n",
        "\n",
        "root_path = './chest-xray/'\n",
        "data = ImageFolder(root= root_path, transform = t)\n",
        "\n",
        "index = list(range(0,1684)) # all samples\n",
        "\n",
        "targets = pd.DataFrame(data.targets, columns=['target'])\n",
        "\n",
        "targets = targets.iloc[index]\n",
        "data = torch.utils.data.Subset(data,index)\n",
        "\n",
        "train_size = int(0.8 * len(data))\n",
        "test_size = len(data) - train_size\n",
        "train_dataset, test_dataset = torch.utils.data.random_split(data, [train_size, test_size])\n",
        "\n",
        "print('--- Number of Samples ---')\n",
        "print('--- 0: No COVID, 1: COVID ---')\n",
        "print(targets.groupby('target').size())\n",
        "\n",
        "train_loader = DataLoader(\n",
        "    train_dataset, \n",
        "    batch_size=batch_size, \n",
        "    shuffle=True,\n",
        "    num_workers=num_workers, \n",
        "    pin_memory=False)\n",
        "\n",
        "test_loader = DataLoader(\n",
        "    test_dataset, \n",
        "    batch_size=batch_size, \n",
        "    shuffle=False,\n",
        "    num_workers=num_workers, \n",
        "    pin_memory=False)\n",
        "\n",
        "print(\"batches:\", len(train_loader), len(test_loader))"
      ],
      "execution_count": null,
      "outputs": []
    },
    {
      "cell_type": "code",
      "metadata": {
        "colab": {
          "base_uri": "https://localhost:8080/",
          "height": 478
        },
        "id": "6n5kM0bXogcS",
        "outputId": "daabc4c7-8398-4832-aea1-e7ae12adc012"
      },
      "source": [
        "# Optional cell, this shows an example image with the transformations applied\n",
        "import matplotlib.pyplot as plt\n",
        "\n",
        "im, lb = next(iter(train_loader))\n",
        "print (lb)\n",
        "im = im[0].numpy()\n",
        "plt.figure(figsize=(15, 7))\n",
        "plt.axis('off')\n",
        "plt.imshow(np.transpose(im, (1, 2, 0)))\n",
        "plt.title(\"test\")\n",
        "plt.show()"
      ],
      "execution_count": null,
      "outputs": []
    },
    {
      "cell_type": "code",
      "metadata": {
        "id": "k4vO_lldKo8U"
      },
      "source": [
        "# This sets the class imbalance weights because our data is roughly 7:1 negative to positive\n",
        "classes = targets.groupby('target').size()\n",
        "class_imbalance_weights = torch.tensor((max(classes) / classes[0], max(classes) / classes[1]), dtype=torch.float)\n",
        "criterion = nn.CrossEntropyLoss(weight = class_imbalance_weights)\n",
        "\n",
        "# Set the optimizer\n",
        "optimizer = torch.optim.SGD(model.parameters(), lr=0.01)\n"
      ],
      "execution_count": null,
      "outputs": []
    },
    {
      "cell_type": "code",
      "metadata": {
        "id": "1cg64Ws44_D1"
      },
      "source": [
        "# FREEZE BLOCKS METHOD\n",
        "\n",
        "def set_trainable(model, block, trainable=True):\n",
        "    for name, param in model.named_parameters():\n",
        "        if f\"blocks.{block}\" in name:\n",
        "            param.requires_grad = trainable\n"
      ],
      "execution_count": null,
      "outputs": []
    },
    {
      "cell_type": "code",
      "metadata": {
        "id": "puqqd1-GqC68"
      },
      "source": [
        "from sklearn.metrics import *\n",
        "\n",
        "#input: Y_pred,Y_true\n",
        "#output: accuracy, auc, precision, recall, f1-score\n",
        "def classification_metrics(Y_pred, Y_true):\n",
        "    acc = accuracy_score(Y_true, Y_pred)\n",
        "    auc = roc_auc_score(Y_true, Y_pred)\n",
        "    precision = precision_score(Y_true, Y_pred)\n",
        "    recall = recall_score(Y_true, Y_pred)\n",
        "    f1 = f1_score(Y_true, Y_pred)\n",
        "    return acc, auc, precision, recall, f1\n",
        "\n",
        "\n",
        "def evaluate(model, loader):\n",
        "    model.eval()\n",
        "    all_y_true = torch.LongTensor()\n",
        "    all_y_pred = torch.LongTensor()\n",
        "    for x, y in test_loader:\n",
        "        y_hat = model(x)\n",
        "        y_pred = torch.max(y_hat, dim = 1).indices.detach()\n",
        "        all_y_true = torch.cat((all_y_true, y.to('cpu').long()), dim=0)\n",
        "        all_y_pred = torch.cat((all_y_pred,  y_pred), dim=0)\n",
        "        \n",
        "    acc, auc, precision, recall, f1 = classification_metrics(all_y_pred, all_y_true)\n",
        "    print(f\"acc: {acc:.3f}, auc: {auc:.3f}, precision: {precision:.3f}, recall: {recall:.3f}, f1: {f1:.3f}\")\n",
        "    return (acc, auc, precision, recall, f1)"
      ],
      "execution_count": null,
      "outputs": []
    },
    {
      "cell_type": "code",
      "metadata": {
        "colab": {
          "background_save": true,
          "base_uri": "https://localhost:8080/"
        },
        "id": "efE-ox83ogiJ",
        "outputId": "ed288ef8-6571-468b-95b5-446f576f4c37"
      },
      "source": [
        "# TRAINING LOOP\n",
        "train_loss_arr = []\n",
        "\n",
        "# Freeze all 12 blocks\n",
        "for block in range(12):\n",
        "    set_trainable(model, block, trainable=False)\n",
        "\n",
        "\n",
        "epochs = 12\n",
        "for epoch in range(epochs):\n",
        "    model.train()\n",
        "\n",
        "    #unfreeze one block per epoch\n",
        "    set_trainable(model, 11 - epoch, trainable=True)\n",
        "    \n",
        "    train_loss = 0\n",
        "    for x, y in train_loader:\n",
        "        optimizer.zero_grad()\n",
        "        y_pred = model(x)\n",
        "        loss = criterion(y_pred, y)\n",
        "        loss.backward()\n",
        "        optimizer.step()\n",
        "        train_loss += loss.item()\n",
        "        \n",
        "    train_loss = train_loss / len(train_loader)\n",
        "    train_loss_arr.append(np.mean(train_loss))\n",
        "    print('Epoch: {} \\tTraining Loss: {:.6f}'.format(epoch+1, train_loss))\n",
        "    evaluate(model, test_loader)"
      ],
      "execution_count": null,
      "outputs": []
    }
  ]
}